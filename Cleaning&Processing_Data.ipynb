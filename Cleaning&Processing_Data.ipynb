{
 "cells": [
  {
   "cell_type": "markdown",
   "metadata": {},
   "source": []
  },
  {
   "cell_type": "code",
   "execution_count": 32,
   "metadata": {},
   "outputs": [],
   "source": [
    "import numpy as np\n",
    "import pandas as pd\n",
    "import matplotlib.pyplot as plt\n",
    "import seaborn as sns"
   ]
  },
  {
   "cell_type": "code",
   "execution_count": 33,
   "metadata": {},
   "outputs": [],
   "source": [
    "raw_df = pd.read_csv('Data/12chomsao.csv')"
   ]
  },
  {
   "cell_type": "markdown",
   "metadata": {},
   "source": [
    "## Cleaning Data"
   ]
  },
  {
   "cell_type": "markdown",
   "metadata": {},
   "source": [
    "1.Loại bỏ dữ liệu trùng lặp\n"
   ]
  },
  {
   "cell_type": "code",
   "execution_count": 34,
   "metadata": {},
   "outputs": [],
   "source": [
    "raw_df.drop_duplicates(inplace= True)"
   ]
  },
  {
   "cell_type": "markdown",
   "metadata": {},
   "source": [
    "## Processing Data"
   ]
  },
  {
   "cell_type": "markdown",
   "metadata": {},
   "source": [
    "1.Chuyển đổi `chuỗi thời gian` thành kiểu `datetime`."
   ]
  },
  {
   "cell_type": "code",
   "execution_count": 35,
   "metadata": {},
   "outputs": [
    {
     "name": "stdout",
     "output_type": "stream",
     "text": [
      "<class 'pandas.core.frame.DataFrame'>\n",
      "RangeIndex: 100 entries, 0 to 99\n",
      "Data columns (total 51 columns):\n",
      " #   Column                         Non-Null Count  Dtype         \n",
      "---  ------                         --------------  -----         \n",
      " 0   post_id                        100 non-null    int64         \n",
      " 1   text                           100 non-null    object        \n",
      " 2   post_text                      100 non-null    object        \n",
      " 3   shared_text                    0 non-null      float64       \n",
      " 4   original_text                  0 non-null      float64       \n",
      " 5   time                           100 non-null    datetime64[ns]\n",
      " 6   timestamp                      100 non-null    int64         \n",
      " 7   image                          95 non-null     object        \n",
      " 8   image_lowquality               99 non-null     object        \n",
      " 9   images                         100 non-null    object        \n",
      " 10  images_description             100 non-null    object        \n",
      " 11  images_lowquality              100 non-null    object        \n",
      " 12  images_lowquality_description  100 non-null    object        \n",
      " 13  video                          0 non-null      float64       \n",
      " 14  video_duration_seconds         0 non-null      float64       \n",
      " 15  video_height                   0 non-null      float64       \n",
      " 16  video_id                       0 non-null      float64       \n",
      " 17  video_quality                  0 non-null      float64       \n",
      " 18  video_size_MB                  0 non-null      float64       \n",
      " 19  video_thumbnail                0 non-null      float64       \n",
      " 20  video_watches                  0 non-null      float64       \n",
      " 21  video_width                    0 non-null      float64       \n",
      " 22  likes                          0 non-null      float64       \n",
      " 23  comments                       100 non-null    int64         \n",
      " 24  shares                         100 non-null    int64         \n",
      " 25  post_url                       100 non-null    object        \n",
      " 26  link                           0 non-null      float64       \n",
      " 27  links                          100 non-null    object        \n",
      " 28  user_id                        100 non-null    int64         \n",
      " 29  username                       100 non-null    object        \n",
      " 30  user_url                       100 non-null    object        \n",
      " 31  is_live                        100 non-null    bool          \n",
      " 32  factcheck                      0 non-null      float64       \n",
      " 33  shared_post_id                 0 non-null      float64       \n",
      " 34  shared_time                    0 non-null      float64       \n",
      " 35  shared_user_id                 0 non-null      float64       \n",
      " 36  shared_username                0 non-null      float64       \n",
      " 37  shared_post_url                0 non-null      float64       \n",
      " 38  available                      100 non-null    bool          \n",
      " 39  comments_full                  100 non-null    object        \n",
      " 40  reactors                       100 non-null    object        \n",
      " 41  w3_fb_url                      100 non-null    object        \n",
      " 42  reactions                      100 non-null    object        \n",
      " 43  reaction_count                 100 non-null    int64         \n",
      " 44  with                           0 non-null      float64       \n",
      " 45  page_id                        100 non-null    int64         \n",
      " 46  sharers                        0 non-null      float64       \n",
      " 47  image_id                       66 non-null     float64       \n",
      " 48  image_ids                      100 non-null    object        \n",
      " 49  was_live                       100 non-null    bool          \n",
      " 50  fetched_time                   100 non-null    object        \n",
      "dtypes: bool(3), datetime64[ns](1), float64(22), int64(7), object(18)\n",
      "memory usage: 37.9+ KB\n"
     ]
    }
   ],
   "source": [
    "raw_df['time'] = pd.to_datetime(raw_df['time'])\n",
    "raw_df.info()"
   ]
  },
  {
   "cell_type": "markdown",
   "metadata": {},
   "source": [
    "2.Chuyển đổi dữ liệu thành `lower case` đối với \n"
   ]
  },
  {
   "cell_type": "code",
   "execution_count": 36,
   "metadata": {},
   "outputs": [
    {
     "data": {
      "text/html": [
       "<div>\n",
       "<style scoped>\n",
       "    .dataframe tbody tr th:only-of-type {\n",
       "        vertical-align: middle;\n",
       "    }\n",
       "\n",
       "    .dataframe tbody tr th {\n",
       "        vertical-align: top;\n",
       "    }\n",
       "\n",
       "    .dataframe thead th {\n",
       "        text-align: right;\n",
       "    }\n",
       "</style>\n",
       "<table border=\"1\" class=\"dataframe\">\n",
       "  <thead>\n",
       "    <tr style=\"text-align: right;\">\n",
       "      <th></th>\n",
       "      <th>text</th>\n",
       "      <th>post_text</th>\n",
       "    </tr>\n",
       "  </thead>\n",
       "  <tbody>\n",
       "    <tr>\n",
       "      <th>0</th>\n",
       "      <td>Ai đó: Có con cái rồi sẽ khiến bạn trưởng thàn...</td>\n",
       "      <td>Ai đó: Có con cái rồi sẽ khiến bạn trưởng thàn...</td>\n",
       "    </tr>\n",
       "    <tr>\n",
       "      <th>1</th>\n",
       "      <td>😆😆😆\\n\\n#songtu #matngu12chomsao</td>\n",
       "      <td>😆😆😆\\n\\n#songtu #matngu12chomsao</td>\n",
       "    </tr>\n",
       "    <tr>\n",
       "      <th>2</th>\n",
       "      <td>Ủa chị 😃</td>\n",
       "      <td>Ủa chị 😃</td>\n",
       "    </tr>\n",
       "    <tr>\n",
       "      <th>3</th>\n",
       "      <td>Rồi khi nào đi?</td>\n",
       "      <td>Rồi khi nào đi?</td>\n",
       "    </tr>\n",
       "    <tr>\n",
       "      <th>4</th>\n",
       "      <td>T đã quá quen r =))</td>\n",
       "      <td>T đã quá quen r =))</td>\n",
       "    </tr>\n",
       "    <tr>\n",
       "      <th>...</th>\n",
       "      <td>...</td>\n",
       "      <td>...</td>\n",
       "    </tr>\n",
       "    <tr>\n",
       "      <th>95</th>\n",
       "      <td>😀😀</td>\n",
       "      <td>😀😀</td>\n",
       "    </tr>\n",
       "    <tr>\n",
       "      <th>96</th>\n",
       "      <td>Sao mà ngại quá zdị nè 🤧🤧</td>\n",
       "      <td>Sao mà ngại quá zdị nè 🤧🤧</td>\n",
       "    </tr>\n",
       "    <tr>\n",
       "      <th>97</th>\n",
       "      <td>Cài tóc cho ai thích gia huy :))))</td>\n",
       "      <td>Cài tóc cho ai thích gia huy :))))</td>\n",
       "    </tr>\n",
       "    <tr>\n",
       "      <th>98</th>\n",
       "      <td>Hay khuyên lắm 😌</td>\n",
       "      <td>Hay khuyên lắm 😌</td>\n",
       "    </tr>\n",
       "    <tr>\n",
       "      <th>99</th>\n",
       "      <td>Thông điệp ngày chủ nhật chill chill dành cho ...</td>\n",
       "      <td>Thông điệp ngày chủ nhật chill chill dành cho ...</td>\n",
       "    </tr>\n",
       "  </tbody>\n",
       "</table>\n",
       "<p>100 rows × 2 columns</p>\n",
       "</div>"
      ],
      "text/plain": [
       "                                                 text  \\\n",
       "0   Ai đó: Có con cái rồi sẽ khiến bạn trưởng thàn...   \n",
       "1                     😆😆😆\\n\\n#songtu #matngu12chomsao   \n",
       "2                                            Ủa chị 😃   \n",
       "3                                     Rồi khi nào đi?   \n",
       "4                                 T đã quá quen r =))   \n",
       "..                                                ...   \n",
       "95                                                 😀😀   \n",
       "96                          Sao mà ngại quá zdị nè 🤧🤧   \n",
       "97                 Cài tóc cho ai thích gia huy :))))   \n",
       "98                                   Hay khuyên lắm 😌   \n",
       "99  Thông điệp ngày chủ nhật chill chill dành cho ...   \n",
       "\n",
       "                                            post_text  \n",
       "0   Ai đó: Có con cái rồi sẽ khiến bạn trưởng thàn...  \n",
       "1                     😆😆😆\\n\\n#songtu #matngu12chomsao  \n",
       "2                                            Ủa chị 😃  \n",
       "3                                     Rồi khi nào đi?  \n",
       "4                                 T đã quá quen r =))  \n",
       "..                                                ...  \n",
       "95                                                 😀😀  \n",
       "96                          Sao mà ngại quá zdị nè 🤧🤧  \n",
       "97                 Cài tóc cho ai thích gia huy :))))  \n",
       "98                                   Hay khuyên lắm 😌  \n",
       "99  Thông điệp ngày chủ nhật chill chill dành cho ...  \n",
       "\n",
       "[100 rows x 2 columns]"
      ]
     },
     "execution_count": 36,
     "metadata": {},
     "output_type": "execute_result"
    }
   ],
   "source": [
    "raw_df[['text', 'post_text']]"
   ]
  },
  {
   "cell_type": "code",
   "execution_count": null,
   "metadata": {},
   "outputs": [],
   "source": [
    "\n"
   ]
  },
  {
   "cell_type": "markdown",
   "metadata": {},
   "source": []
  }
 ],
 "metadata": {
  "kernelspec": {
   "display_name": "Python 3",
   "language": "python",
   "name": "python3"
  },
  "language_info": {
   "codemirror_mode": {
    "name": "ipython",
    "version": 3
   },
   "file_extension": ".py",
   "mimetype": "text/x-python",
   "name": "python",
   "nbconvert_exporter": "python",
   "pygments_lexer": "ipython3",
   "version": "3.11.6"
  }
 },
 "nbformat": 4,
 "nbformat_minor": 2
}
